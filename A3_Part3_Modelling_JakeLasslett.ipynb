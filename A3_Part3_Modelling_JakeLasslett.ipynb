{
 "cells": [
  {
   "cell_type": "code",
   "execution_count": 6,
   "metadata": {
    "collapsed": true,
    "pycharm": {
     "name": "#%%\n"
    }
   },
   "outputs": [],
   "source": [
    "import pandas as pd\n",
    "from sklearn.model_selection import train_test_split\n",
    "\n",
    "import torch\n",
    "from torch.utils.data import DataLoader, Dataset\n",
    "from transformers import RobertaTokenizer, RobertaModel, RobertaForSequenceClassification, AdamW\n",
    "from torch.nn.utils.rnn import pad_sequence\n",
    "from torch.optim import AdamW\n",
    "from torch.cuda.amp import GradScaler, autocast\n",
    "import torch.nn as nn\n",
    "from tqdm.auto import tqdm"
   ]
  },
  {
   "cell_type": "code",
   "execution_count": 7,
   "outputs": [],
   "source": [
    "# Reading in the preprocessed augmented data\n",
    "data_preprocessed = pd.read_csv('data_2_preprocessed_balanced.csv')\n",
    "reduced_data_preprocessed = data_preprocessed.sample(n=500, random_state=42)  # Set random_state for reproducibility\n"
   ],
   "metadata": {
    "collapsed": false,
    "pycharm": {
     "name": "#%%\n"
    }
   }
  },
  {
   "cell_type": "code",
   "execution_count": 8,
   "outputs": [],
   "source": [
    "### Splitting the data into training/test sets\n",
    "X = reduced_data_preprocessed['processed_text']\n",
    "y = reduced_data_preprocessed['binary_label']\n",
    "\n",
    "# Split the data - 80% training, 20% testing\n",
    "X_train, X_test, y_train, y_test = train_test_split(X, y, test_size=0.4, random_state=42)\n"
   ],
   "metadata": {
    "collapsed": false,
    "pycharm": {
     "name": "#%%\n"
    }
   }
  },
  {
   "cell_type": "code",
   "execution_count": 9,
   "outputs": [
    {
     "name": "stderr",
     "output_type": "stream",
     "text": [
      "Some weights of RobertaModel were not initialized from the model checkpoint at roberta-base and are newly initialized: ['roberta.pooler.dense.bias', 'roberta.pooler.dense.weight']\n",
      "You should probably TRAIN this model on a down-stream task to be able to use it for predictions and inference.\n"
     ]
    }
   ],
   "source": [
    "# # Initialize tokenizer\n",
    "# tokenizer = RobertaTokenizer.from_pretrained('roberta-base')\n",
    "\n",
    "# Check if a GPU is available and set the device accordingly\n",
    "device = torch.device(\"cuda\" if torch.cuda.is_available() else \"cpu\")\n",
    "\n",
    "# Load the tokenizer and model\n",
    "tokenizer = RobertaTokenizer.from_pretrained('roberta-base')\n",
    "roberta_model = RobertaModel.from_pretrained('roberta-base')\n",
    "\n",
    "# Define your custom dataset\n",
    "class TextDataset(Dataset):\n",
    "    def __init__(self, texts, labels, tokenizer, max_len=512):\n",
    "        self.texts = texts\n",
    "        self.labels = labels\n",
    "        self.tokenizer = tokenizer\n",
    "        self.max_len = max_len\n",
    "\n",
    "    def __len__(self):\n",
    "        return len(self.texts)\n",
    "\n",
    "    def __getitem__(self, item):\n",
    "        text = str(self.texts[item])\n",
    "        label = self.labels[item]\n",
    "        encoding = self.tokenizer.encode_plus(\n",
    "            text,\n",
    "            add_special_tokens=True,\n",
    "            max_length=self.max_len,\n",
    "            padding='max_length',\n",
    "            truncation=True,\n",
    "            return_attention_mask=True,\n",
    "            return_tensors='pt',\n",
    "        )\n",
    "        return {\n",
    "            'input_ids': encoding['input_ids'].flatten(),\n",
    "            'attention_mask': encoding['attention_mask'].flatten(),\n",
    "            'labels': torch.tensor(label, dtype=torch.long)\n",
    "        }\n",
    "\n",
    "# Create datasets (X_train, X_test, y_train, y_test should be defined)\n",
    "train_dataset = TextDataset(X_train.tolist(), y_train.tolist(), tokenizer)\n",
    "test_dataset = TextDataset(X_test.tolist(), y_test.tolist(), tokenizer)\n",
    "\n",
    "# Create DataLoaders with multiple workers\n",
    "train_loader = DataLoader(train_dataset, batch_size=4, shuffle=True, num_workers=4)\n",
    "test_loader = DataLoader(test_dataset, batch_size=4, num_workers=4)"
   ],
   "metadata": {
    "collapsed": false,
    "pycharm": {
     "name": "#%%\n"
    }
   }
  },
  {
   "cell_type": "code",
   "execution_count": 10,
   "outputs": [
    {
     "name": "stderr",
     "output_type": "stream",
     "text": [
      "C:\\Users\\jakel\\Documents\\Uni\\MA5851 Data Science Master Class 1\\Assignments\\A3_Capstone\\A3_JakeLasslett_2\\lib\\site-packages\\torch\\cuda\\amp\\grad_scaler.py:125: UserWarning: torch.cuda.amp.GradScaler is enabled, but CUDA is not available.  Disabling.\n",
      "  warnings.warn(\n"
     ]
    }
   ],
   "source": [
    "\n",
    "# Define the RoBERTa-LSTM model\n",
    "class RobertaLSTM(nn.Module):\n",
    "    def __init__(self, roberta_model, lstm_hidden_size, num_classes):\n",
    "        super(RobertaLSTM, self).__init__()\n",
    "        self.roberta = roberta_model\n",
    "        self.lstm = nn.LSTM(roberta_model.config.hidden_size, lstm_hidden_size, batch_first=True)\n",
    "        self.classifier = nn.Linear(lstm_hidden_size, num_classes)\n",
    "\n",
    "    def forward(self, input_ids, attention_mask):\n",
    "        with torch.no_grad():\n",
    "            _, pooled_output = self.roberta(input_ids=input_ids, attention_mask=attention_mask, return_dict=False)\n",
    "        lstm_output, _ = self.lstm(pooled_output.unsqueeze(1))\n",
    "        logits = self.classifier(lstm_output.squeeze(1))\n",
    "        return logits\n",
    "\n",
    "# Initialize the RoBERTa-LSTM model\n",
    "model = RobertaLSTM(roberta_model, lstm_hidden_size=256, num_classes=2)\n",
    "model = model.to(device)\n",
    "\n",
    "# Initialize the optimizer and scaler for mixed precision\n",
    "optimizer = AdamW(model.parameters(), lr=1e-5)\n",
    "scaler = GradScaler()\n"
   ],
   "metadata": {
    "collapsed": false,
    "pycharm": {
     "name": "#%%\n"
    }
   }
  },
  {
   "cell_type": "code",
   "execution_count": null,
   "outputs": [],
   "source": [
    "\n",
    "# Training function with mixed precision and tqdm progress bar\n",
    "def train_epoch(model, data_loader, optimizer, device, scaler):\n",
    "    model.train()\n",
    "    losses = []\n",
    "    for batch in tqdm(data_loader, desc=\"Training\"):\n",
    "        input_ids = batch['input_ids'].to(device)\n",
    "        attention_mask = batch['attention_mask'].to(device)\n",
    "        labels = batch['labels'].to(device)\n",
    "\n",
    "        optimizer.zero_grad()\n",
    "\n",
    "        with autocast():\n",
    "            outputs = model(input_ids=input_ids, attention_mask=attention_mask)\n",
    "            loss = loss_fn(outputs, labels)\n",
    "\n",
    "        scaler.scale(loss).backward()\n",
    "        scaler.step(optimizer)\n",
    "        scaler.update()\n",
    "\n",
    "        losses.append(loss.item())\n",
    "\n",
    "    return np.mean(losses)\n",
    "\n",
    "# Training loop with tqdm progress bar\n",
    "num_epochs = 3  # Adjust as needed\n",
    "for epoch in range(num_epochs):\n",
    "    train_loss = train_epoch(model, train_loader, optimizer, device, scaler)\n",
    "    print(f'Epoch {epoch+1}/{num_epochs}, Loss: {train_loss:.4f}')\n"
   ],
   "metadata": {
    "collapsed": false,
    "pycharm": {
     "name": "#%%\n",
     "is_executing": true
    }
   }
  },
  {
   "cell_type": "code",
   "execution_count": null,
   "outputs": [
    {
     "name": "stderr",
     "output_type": "stream",
     "text": [
      "C:\\Users\\jakel\\Documents\\Uni\\MA5851 Data Science Master Class 1\\Assignments\\A3_Capstone\\A3_JakeLasslett_2\\lib\\site-packages\\torch\\cuda\\amp\\grad_scaler.py:125: UserWarning: torch.cuda.amp.GradScaler is enabled, but CUDA is not available.  Disabling.\n",
      "  warnings.warn(\n"
     ]
    }
   ],
   "source": [
    "# ## Training the model\n",
    "# # Initialize mixed precision\n",
    "# scaler = GradScaler()\n",
    "#\n",
    "# # Training function with mixed precision and gradient accumulation\n",
    "# def train_epoch(model, data_loader, optimizer, device, scheduler, grad_accumulation_steps=2):\n",
    "#     model.train()\n",
    "#     total_loss = 0\n",
    "#     for step, batch in enumerate(data_loader):\n",
    "#         input_ids = batch['input_ids'].to(device)\n",
    "#         attention_mask = batch['attention_mask'].to(device)\n",
    "#         labels = batch['labels'].to(device)\n",
    "#\n",
    "#         with autocast():  # Enable mixed precision\n",
    "#             outputs = model(input_ids, attention_mask=attention_mask, labels=labels)\n",
    "#             loss = outputs.loss / grad_accumulation_steps  # Scale loss\n",
    "#\n",
    "#         scaler.scale(loss).backward()  # Scale loss for mixed precision\n",
    "#\n",
    "#         # Perform optimization step every `grad_accumulation_steps` steps\n",
    "#         if (step + 1) % grad_accumulation_steps == 0:\n",
    "#             scaler.step(optimizer)\n",
    "#             scaler.update()\n",
    "#             optimizer.zero_grad()\n",
    "#             scheduler.step()  # Update learning rate\n",
    "#\n",
    "#     return total_loss / len(data_loader)\n",
    "#\n",
    "# # Define the number of training epochs\n",
    "# epochs = 3\n",
    "#\n",
    "# # Initialize the optimizer and scheduler\n",
    "# optimizer = AdamW(model.parameters(), lr=5e-5)\n",
    "# scheduler = get_linear_schedule_with_warmup(optimizer, num_warmup_steps=0, num_training_steps=len(train_loader) * epochs)\n",
    "#\n",
    "# # Evaluation function\n",
    "# def eval_model(model, data_loader, device):\n",
    "#     model.eval()\n",
    "#     total_loss = 0\n",
    "#     with torch.no_grad():\n",
    "#         for batch in tqdm(data_loader):\n",
    "#             input_ids = batch['input_ids'].to(device)\n",
    "#             attention_mask = batch['attention_mask'].to(device)\n",
    "#             labels = batch['labels'].to(device)\n",
    "#             outputs = model(input_ids, attention_mask=attention_mask, labels=labels)\n",
    "#             loss = outputs.loss\n",
    "#             total_loss += loss.item()\n",
    "#     return total_loss / len(data_loader)\n",
    "#\n",
    "# # Training loop\n",
    "# for epoch in range(epochs):\n",
    "#     train_loss = train_epoch(model, train_loader, optimizer, device, scheduler)\n",
    "#     print(f\"Epoch {epoch + 1}/{epochs}, Train Loss: {train_loss:.4f}\")\n",
    "#     val_loss = eval_model(model, test_loader, device)\n",
    "#     print(f\"Epoch {epoch + 1}/{epochs}, Validation Loss: {val_loss:.4f}\")\n",
    "#\n",
    "# # Save the model\n",
    "# model.save_pretrained('roberta_model_1')\n",
    "# tokenizer.save_pretrained('roberta_model_1')"
   ],
   "metadata": {
    "collapsed": false,
    "pycharm": {
     "name": "#%%\n"
    }
   }
  },
  {
   "cell_type": "code",
   "execution_count": null,
   "outputs": [],
   "source": [],
   "metadata": {
    "collapsed": false,
    "pycharm": {
     "name": "#%%\n"
    }
   }
  }
 ],
 "metadata": {
  "kernelspec": {
   "display_name": "Python 3",
   "language": "python",
   "name": "python3"
  },
  "language_info": {
   "codemirror_mode": {
    "name": "ipython",
    "version": 2
   },
   "file_extension": ".py",
   "mimetype": "text/x-python",
   "name": "python",
   "nbconvert_exporter": "python",
   "pygments_lexer": "ipython2",
   "version": "2.7.6"
  }
 },
 "nbformat": 4,
 "nbformat_minor": 0
}